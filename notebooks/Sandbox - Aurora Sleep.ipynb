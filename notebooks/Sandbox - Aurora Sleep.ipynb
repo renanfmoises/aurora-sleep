{
 "cells": [
  {
   "cell_type": "markdown",
   "id": "ec3f249a",
   "metadata": {},
   "source": [
    "# Aurora Sleep Tracking"
   ]
  },
  {
   "cell_type": "code",
   "execution_count": 1,
   "id": "c1e67c85",
   "metadata": {},
   "outputs": [],
   "source": [
    "import pandas as pd"
   ]
  },
  {
   "cell_type": "code",
   "execution_count": 3,
   "id": "a9efe339",
   "metadata": {},
   "outputs": [],
   "source": [
    "data = \"../data/sleep.json\"\n",
    "sleep = pd.read_json(data)"
   ]
  },
  {
   "cell_type": "code",
   "execution_count": 4,
   "id": "86f0a904",
   "metadata": {},
   "outputs": [
    {
     "data": {
      "text/html": [
       "<div>\n",
       "<style scoped>\n",
       "    .dataframe tbody tr th:only-of-type {\n",
       "        vertical-align: middle;\n",
       "    }\n",
       "\n",
       "    .dataframe tbody tr th {\n",
       "        vertical-align: top;\n",
       "    }\n",
       "\n",
       "    .dataframe thead th {\n",
       "        text-align: right;\n",
       "    }\n",
       "</style>\n",
       "<table border=\"1\" class=\"dataframe\">\n",
       "  <thead>\n",
       "    <tr style=\"text-align: right;\">\n",
       "      <th></th>\n",
       "      <th>babyid</th>\n",
       "      <th>duration</th>\n",
       "      <th>endDate</th>\n",
       "      <th>pk</th>\n",
       "      <th>note</th>\n",
       "      <th>startDate</th>\n",
       "    </tr>\n",
       "  </thead>\n",
       "  <tbody>\n",
       "    <tr>\n",
       "      <th>0</th>\n",
       "      <td>1</td>\n",
       "      <td>0</td>\n",
       "      <td>1969-12-31T21:00:00.000-03:00</td>\n",
       "      <td>1468</td>\n",
       "      <td>NaN</td>\n",
       "      <td>2022-06-27T19:04:49.416-03:00</td>\n",
       "    </tr>\n",
       "    <tr>\n",
       "      <th>1</th>\n",
       "      <td>1</td>\n",
       "      <td>4418</td>\n",
       "      <td>2022-06-27T15:41:00.298-03:00</td>\n",
       "      <td>1463</td>\n",
       "      <td>NaN</td>\n",
       "      <td>2022-06-27T14:27:21.580-03:00</td>\n",
       "    </tr>\n",
       "    <tr>\n",
       "      <th>2</th>\n",
       "      <td>1</td>\n",
       "      <td>1747</td>\n",
       "      <td>2022-06-27T14:24:14.777-03:00</td>\n",
       "      <td>1461</td>\n",
       "      <td>NaN</td>\n",
       "      <td>2022-06-27T13:55:07.016-03:00</td>\n",
       "    </tr>\n",
       "    <tr>\n",
       "      <th>3</th>\n",
       "      <td>1</td>\n",
       "      <td>1639</td>\n",
       "      <td>2022-06-27T13:23:05.394-03:00</td>\n",
       "      <td>1459</td>\n",
       "      <td>NaN</td>\n",
       "      <td>2022-06-27T12:55:45.408-03:00</td>\n",
       "    </tr>\n",
       "    <tr>\n",
       "      <th>4</th>\n",
       "      <td>1</td>\n",
       "      <td>1419</td>\n",
       "      <td>2022-06-27T11:13:39.320-03:00</td>\n",
       "      <td>1457</td>\n",
       "      <td>NaN</td>\n",
       "      <td>2022-06-27T10:50:00.000-03:00</td>\n",
       "    </tr>\n",
       "  </tbody>\n",
       "</table>\n",
       "</div>"
      ],
      "text/plain": [
       "   babyid  duration                        endDate    pk  note  \\\n",
       "0       1         0  1969-12-31T21:00:00.000-03:00  1468   NaN   \n",
       "1       1      4418  2022-06-27T15:41:00.298-03:00  1463   NaN   \n",
       "2       1      1747  2022-06-27T14:24:14.777-03:00  1461   NaN   \n",
       "3       1      1639  2022-06-27T13:23:05.394-03:00  1459   NaN   \n",
       "4       1      1419  2022-06-27T11:13:39.320-03:00  1457   NaN   \n",
       "\n",
       "                       startDate  \n",
       "0  2022-06-27T19:04:49.416-03:00  \n",
       "1  2022-06-27T14:27:21.580-03:00  \n",
       "2  2022-06-27T13:55:07.016-03:00  \n",
       "3  2022-06-27T12:55:45.408-03:00  \n",
       "4  2022-06-27T10:50:00.000-03:00  "
      ]
     },
     "execution_count": 4,
     "metadata": {},
     "output_type": "execute_result"
    }
   ],
   "source": [
    "sleep.head()"
   ]
  },
  {
   "cell_type": "code",
   "execution_count": null,
   "id": "be479eef",
   "metadata": {},
   "outputs": [],
   "source": []
  }
 ],
 "metadata": {
  "kernelspec": {
   "display_name": "Python 3 (ipykernel)",
   "language": "python",
   "name": "python3"
  },
  "language_info": {
   "codemirror_mode": {
    "name": "ipython",
    "version": 3
   },
   "file_extension": ".py",
   "mimetype": "text/x-python",
   "name": "python",
   "nbconvert_exporter": "python",
   "pygments_lexer": "ipython3",
   "version": "3.8.12"
  },
  "toc": {
   "base_numbering": 1,
   "nav_menu": {},
   "number_sections": true,
   "sideBar": true,
   "skip_h1_title": false,
   "title_cell": "Table of Contents",
   "title_sidebar": "Contents",
   "toc_cell": false,
   "toc_position": {},
   "toc_section_display": true,
   "toc_window_display": false
  }
 },
 "nbformat": 4,
 "nbformat_minor": 5
}
